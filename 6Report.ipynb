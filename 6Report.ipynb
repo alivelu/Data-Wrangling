{
 "cells": [
  {
   "cell_type": "markdown",
   "metadata": {
    "collapsed": true
   },
   "source": [
    "# OpenStreetMap Data of Shakopee, MN\n",
    "\n"
   ]
  },
  {
   "cell_type": "markdown",
   "metadata": {},
   "source": [
    "### Information about the Data:\n",
    "\n",
    "This project wrangles the data of Shakopee, MN area. I have lived in Minnesota for nearly a decade. So It's like my hometown. As the \"Shakopee.osm\" file is 70 MB only, I have used the complete file for analysis. It's downloaded from openstreetmap.org. It is an open-source project, which provides a free map for the entire world from volunteer-entered data. OpenStreetMap data is freely available to download in many formats and it gives an ideal opportunity to practice the art of data wrangling.\n",
    "#### Why?\n",
    "This Analysis is a requirement for Data Wrangling Project from Udacity's Data Analyst Nano Degree.\n",
    "####  Purpose:\n",
    "The file is very big and it contains thousands of rows. So editing and updating the wrong data is a difficult task. And also it's  difficult to work manually on the data provided. \n",
    "So we have to automate the process of:\n",
    "* Downloading and Extraction of OSM, XML files\n",
    "* Exploring, auditing and cleaning the data.\n",
    "* After cleaning extracting the data into CSV files\n",
    "* Connecting to database\n",
    "* Running SQL queries\n",
    "* And report your findings"
   ]
  },
  {
   "cell_type": "markdown",
   "metadata": {},
   "source": [
    "##### Problems : State:"
   ]
  },
  {
   "cell_type": "markdown",
   "metadata": {},
   "source": [
    "* From the auditing we got to know that problematic state values are 'Mn', 'Minnesota', 'mn', 'MN'.\n",
    "* Correct representation of the state should be with two capital letters.\n",
    "*  Ex: MN\n",
    "* So I have created a function to update the problematic \"state abbreviations\"  to \"correct state abbreviations\"\n",
    "#### The Update functions updates the states as follows:\n",
    "```\n",
    "Minnesota => MN\n",
    "mn => MN\n",
    "Mn => MN\n",
    "```"
   ]
  },
  {
   "cell_type": "markdown",
   "metadata": {},
   "source": [
    "##### Problems : City:"
   ]
  },
  {
   "cell_type": "markdown",
   "metadata": {},
   "source": [
    "* Problematic cities are {'burnsville', 'Chaska MN', 'shakopee'}.\n",
    "* As the names of the cities are having the inconsistent abbreviation, I have created an \"update\" function to allow the following changes.\n",
    "* The \"update\" function removed \"MN\" from the city name.\n",
    "* And all first letters of the city are capitalized\n",
    "#### The Update functions updates the cities as follows:\n",
    "```\n",
    "('Chaska MN', '=>', 'Chaska')\n",
    "('shakopee', '=>', 'Shakopee')\n",
    "('burnsville', '=>', 'Burnsville')\n",
    "```"
   ]
  },
  {
   "cell_type": "markdown",
   "metadata": {},
   "source": [
    "##### Problems : Phone numbers:"
   ]
  },
  {
   "cell_type": "markdown",
   "metadata": {
    "collapsed": true
   },
   "source": [
    "* From the exploration and audition we understood that, phone numbers are inconsistent. They should be in the format of xxx-xxx-xxxx\n",
    "* Ex: 952-200-4565\n",
    "* Alphanumeric phone numbers are also present in the data.\n",
    "* Ex: 800-rent-a- car\n",
    "#### Update function gives the results as following:\n",
    "```\n",
    "(952) 496-8200 => 952-496-8200\n",
    "+1 952 8923456 => 952-892-3456\n",
    "952-445-7733 => 952-445-7733\n",
    "+1 952 2337319 => 952-233-7319\n",
    "+1 (952) 440-8845 => 952-440-8845\n",
    "800-rent-a-car => 800--\n",
    "```\n",
    "#### Observations:\n",
    "The test above confirms that the phone numbers are cleaned except the alphanumeric phone number.\n",
    "Ex: 1-800-rent-a-car\n",
    "#### Solution:\n",
    "This can be cleaned by creating a new python function or program.\n",
    "* Different regex pattern can be given for compiling.\n",
    "* We can assign numbers to the letters from A-Z or a-z. "
   ]
  },
  {
   "cell_type": "markdown",
   "metadata": {},
   "source": [
    "#####  Problems : Street Names : "
   ]
  },
  {
   "cell_type": "markdown",
   "metadata": {},
   "source": [
    "* After exploring the Shakopee.osm file, I understood that we have to fix the abbreviated street names consistently. \n",
    "* This is one of the major issues I have worked on. As they are inconsistent:\n",
    "* I found that there were different formats (for example, Ave, AVE, South, S, Dr, drive).\n",
    "* To solve this, I have capitalized the first letter of every word in the street.\n",
    "* There were a few street names in the format of numbers, number and word combinations like 5, HWY 13, Minnesota 13 S #101.\n",
    "* So we have to clean them and make them consistent:\n",
    "* The Update function below addresses many issues like\n",
    "* Changes S to South, E to East\n",
    "* Blvd to  Boulevard\n",
    "* Ave to Avenue\n",
    "* SE to South East etc..\n",
    "#### The update function for Streets:\n",
    "```\n",
    "    for st_type, ways in st_types.items():\n",
    "    for name in ways:\n",
    "        for each in name.split():\n",
    "            if each in mapping_streets.keys():\n",
    "                better_name = update_name(name, mapping_streets)\n",
    "                print(name, \"=>\", better_name)\n",
    "```                \n",
    "#### Results:\n",
    "```\n",
    "Anna Trail SE => Anna Trail SOuth East\n",
    "Hwy 13 SE => Highway 13 SOuth East\n",
    "1st Ave East => 1st Avenue East\n",
    "Minnesota 13 S #101 => Minnesota 13 South #101\n",
    "HWY 13 => Highway 13\n",
    "Highway 13 S => Highway 13 South\n",
    "Raspberry Ridge Road NW => Raspberry Ridge Road North West\n",
    "```\n",
    "#### Observations:\n",
    "* Not sure about the follwing pattern, Whether it's correct or not? \n",
    "* Minnesota 13 South #101 (Ends with a number)\n",
    "* Highway 13 (correct)\n",
    "* North Chestnut St;S Chestnut Street is not correct. AS it's not under addr:street tag & it's under\n",
    "```tag k=\"name\" v=\"N Chestnut St; S Chestnut Street\"\n",
    "```\n",
    "* Remaining street tags in osm file are tagged like below:\n",
    "```\n",
    "tag k=\"addr:street\" v=\"17th Ave\"\n",
    "```\n",
    "I have tried to update my function with \"tag k=\"name\" in is_streetname function:\n",
    "* It's converting us bank to united states high way bank.\n",
    "* Which is not correct.\n",
    "* So I am not including that  k value in my analysis.\n",
    "\n",
    "The following format is correct. So I think for these parts cleaning is not necessary)\n",
    "* State Highway 13 => State Highway 13\n",
    "* County Road 42 => County Road 42\n",
    "#### Solution:\n",
    "A few street names are included in \"tag k = \"name\", we can further write a different program to change it to only streets by taking more parameters into account. If it still shows a problem in updating, we can delete those records or information from our data and can proceed with further analysis.\n",
    "\n",
    "Ex:\n",
    "* As I have the problem in changing the following street name, I want to see the tag where it belongs to:\n",
    "* ('North Chestnut St;S Chestnut Street', 1),\n",
    "* We got the information from  querying as following:\n",
    "* 1136508445, 'street', 'North Chestnut St;S Chestnut Street', 'addr'),\n",
    "```\n",
    "# Location of wrongly abbreviated streets and other details:\n",
    "wrong_abb_st_info_more  = cursor.execute(\"\"\"SELECT * \n",
    "             FROM (SELECT * FROM nodes_tags\n",
    "             UNION ALL \n",
    "             SELECT * FROM ways_tags) tags\n",
    "             WHERE tags.id = 1136508445\"\"\").fetchall()\n",
    "                                \n",
    "```\n",
    "```\n",
    "[(1136508445, 'city', 'Chaska', 'addr'),\n",
    " (1136508445, 'housenumber', '503', 'addr'),\n",
    " (1136508445, 'postcode', '55318', 'addr'),\n",
    " (1136508445, 'street', 'North Chestnut St;S Chestnut Street', 'addr'),\n",
    " (1136508445, 'amenity', 'fast_food', 'regular'),\n",
    " (1136508445, 'name', \"Domino's\", 'regular')]\n",
    "```\n",
    "* By looking at the above information we understood that it's a fast food restaurant. \n",
    "* I googled the address and I got the information as:\n",
    "* 503 N Chestnut St, Chaska, MN 55318-1925\n",
    "* So it should be N Chestnut St.\n",
    "*  Using a new python function or program we can deal with this"
   ]
  },
  {
   "cell_type": "markdown",
   "metadata": {},
   "source": [
    "##### Problems : Postal codes:"
   ]
  },
  {
   "cell_type": "markdown",
   "metadata": {},
   "source": [
    "* Incorrect zip codes or Invalid zip codes in data are as following.\n",
    "* {'55379; 55378', '55044-5546', '822', '55315;55318', '55337-4236', '55337-2912'}\n",
    "* Shakopee area zip code covers only 1 zip code i.e 55379.\n",
    "* The other zip codes belongs to the nearby cities of Shakopee, MN.\n",
    "#### Update function gives the results as following```\n",
    "for element in get_element(OSMFILE):\n",
    "    if element.tag == \"node\" or element.tag == \"way\":\n",
    "        for tag in element.iter(\"tag\"):\n",
    "            if is_postcode(tag):\n",
    "                if tag.attrib['v'] not in expected_postcodes:\n",
    "                    print(tag.attrib['v'], \"=>\", update_postcode(tag.attrib['v']))\n",
    "\n",
    "    ```\n",
    "##### Results:\n",
    "\n",
    "```\n",
    "55044-5546 => 55044\n",
    "822 => Invalid\n",
    "55315;55318 => 55315\n",
    "55379; 55378 => 55379\n",
    "55379; 55378 => 55379\n",
    "55337-4236 => 55337\n",
    "55337-2912 => 55337\n",
    "\n",
    "```\n",
    "#### Observations:\n",
    "A zip code is a 5 digit number, So 822 is invalid.\n",
    "\n",
    "#### Solution:\n",
    "We can explore more about this in the SQL querying section."
   ]
  },
  {
   "cell_type": "markdown",
   "metadata": {},
   "source": [
    "#### Miscellaneous\n",
    "* We can also explore, audit and clean county names, cuisine type, restaurants and cafe for better analysis.\n",
    "*  I have also created a pie chart in \"SQL querying section\" file for users, contributions, and related percentages.\n",
    "* We can also run more queries like restaurants and their locations using latitudes and longitudes. \n",
    "* And plot them on a scatter plot to show in which city or place restaurants are more. \n",
    "* Plotting would have been easier if the cuisine values have been cleaned. \n",
    "* And this can also be applied to worship places also."
   ]
  },
  {
   "cell_type": "markdown",
   "metadata": {},
   "source": [
    "## Connecting to database and querying Data"
   ]
  },
  {
   "cell_type": "markdown",
   "metadata": {},
   "source": [
    "##### Number of nodes:"
   ]
  },
  {
   "cell_type": "markdown",
   "metadata": {},
   "source": [
    "```\n",
    "cursor.execute(\"SELECT COUNT(*) FROM nodes\")\n",
    "total_nodes_tags = cursor.fetchall()\n",
    "total_nodes_tags\n",
    "```"
   ]
  },
  {
   "cell_type": "markdown",
   "metadata": {},
   "source": [
    "```\n",
    "[(325769,)]```"
   ]
  },
  {
   "cell_type": "markdown",
   "metadata": {},
   "source": [
    "```\n",
    "cursor.execute(\"SELECT COUNT(*) FROM ways\")\n",
    "total_nodes_tags = cursor.fetchall()\n",
    "total_nodes_tags\n",
    "```"
   ]
  },
  {
   "cell_type": "markdown",
   "metadata": {},
   "source": [
    "```\n",
    "[(32110,)]\n",
    "```"
   ]
  },
  {
   "cell_type": "markdown",
   "metadata": {},
   "source": [
    "```\n",
    "cursor.execute(\"SELECT COUNT(*) FROM ways_nodes\")\n",
    "total_nodes_tags = cursor.fetchall()\n",
    "total_nodes_tags\n",
    "```"
   ]
  },
  {
   "cell_type": "markdown",
   "metadata": {},
   "source": [
    "```\n",
    "[(369849,)]\n",
    "```"
   ]
  },
  {
   "cell_type": "markdown",
   "metadata": {},
   "source": [
    "```\n",
    "#These values are same as the one obtained from the exploration of dataset \"Top Level Tags\" \n",
    "\n",
    "defaultdict(<class 'int'>, {'note': 1, 'meta': 1, 'bounds': 1, 'node': 325769, 'tag': 162406, 'nd': 369849, 'way': 32110, 'member': 4967, 'relation': 152, 'osm': 1})\n",
    "procesing_time:  3.534 s\n",
    "```"
   ]
  },
  {
   "cell_type": "markdown",
   "metadata": {},
   "source": [
    "## Number of unique users"
   ]
  },
  {
   "cell_type": "markdown",
   "metadata": {},
   "source": [
    "```\n",
    "cursor.execute(\"\"\"SELECT COUNT(DISTINCT(e.uid))\n",
    "             FROM (SELECT uid from nodes UNION ALL SELECT uid FROM ways) e\"\"\")\n",
    "users = cursor.fetchall()\n",
    "users\n",
    "```\n"
   ]
  },
  {
   "cell_type": "markdown",
   "metadata": {},
   "source": [
    "```\n",
    "[(373,)]\n",
    "We got the same value for unique users (373) as above in exploration and audition phase.\n",
    "\n",
    "```"
   ]
  },
  {
   "cell_type": "markdown",
   "metadata": {},
   "source": [
    "```\n",
    "top10_contributors = cursor.execute(\"\"\"SELECT e.user, COUNT(*) as num \n",
    "             FROM (SELECT user FROM nodes UNION ALL SELECT user FROM ways) e \n",
    "             GROUP BY e.user \n",
    "             ORDER BY num DESC \n",
    "             LIMIT 10\"\"\").fetchall()\n",
    "\n",
    "```"
   ]
  },
  {
   "cell_type": "markdown",
   "metadata": {},
   "source": [
    "![title](img/Users and no of posts.png)"
   ]
  },
  {
   "cell_type": "markdown",
   "metadata": {},
   "source": [
    "Omnific tops the contribution and his total contribution are 71,874.\n",
    "And the percentage of contributions in the figure below."
   ]
  },
  {
   "cell_type": "markdown",
   "metadata": {},
   "source": [
    "![title](img/users and contribution.png)"
   ]
  },
  {
   "cell_type": "markdown",
   "metadata": {
    "collapsed": true
   },
   "source": [
    "```\n",
    "#Total count of individual cities cities near to Shakopee, MN\n",
    "cities = cursor.execute(\"\"\"SELECT tags.value, COUNT(*) as count\n",
    "                        FROM (SELECT * FROM nodes_tags\n",
    "                              UNION ALL \n",
    "                              SELECT * FROM ways_tags) tags \n",
    "                        WHERE tags.key = 'city' \n",
    "                        GROUP BY tags.value \n",
    "                        ORDER By count DESC\"\"\").fetchall()\n",
    "```"
   ]
  },
  {
   "cell_type": "markdown",
   "metadata": {},
   "source": [
    "#### Got the results as following:"
   ]
  },
  {
   "cell_type": "markdown",
   "metadata": {},
   "source": [
    "```\n",
    "[('Burnsville', 5089),\n",
    " ('Lakeville', 1272),\n",
    " ('Chaska', 94),\n",
    " ('Shakopee', 54),\n",
    " ('Prior Lake', 32),\n",
    " ('Bloomington', 26),\n",
    " ('Eden Prairie', 11),\n",
    " ('Savage', 9),\n",
    " ('Chanhassen', 2),\n",
    " ('Victoria', 1)]\n",
    "```"
   ]
  },
  {
   "cell_type": "markdown",
   "metadata": {},
   "source": [
    "Burnsville city near Shakopee, MN is popular."
   ]
  },
  {
   "cell_type": "markdown",
   "metadata": {},
   "source": [
    "#### Zipcodes:"
   ]
  },
  {
   "cell_type": "markdown",
   "metadata": {
    "collapsed": true
   },
   "source": [
    "```\n",
    "#Count of post codes near Shakopee, MN area.\n",
    "#Which gives the information of zip code and popularity.\n",
    "postcodes = cursor.execute(\"\"\"SELECT tags.value, COUNT(*) as count\n",
    "                          FROM (SELECT * FROM nodes_tags\n",
    "                                UNION ALL SELECT * FROM ways_tags) tags \n",
    "                          WHERE tags.key = 'postcode' or 'postal_code'\n",
    "                          GROUP BY tags.value \n",
    "                          ORDER By count DESC\"\"\").fetchall()\n",
    "```"
   ]
  },
  {
   "cell_type": "markdown",
   "metadata": {},
   "source": [
    "#### Results:"
   ]
  },
  {
   "cell_type": "markdown",
   "metadata": {},
   "source": [
    "```\n",
    "[('55337', 3022),\n",
    " ('55306', 2083),\n",
    " ('55044', 1270),\n",
    " ('55318', 93),\n",
    " ('55379', 44),\n",
    " ('55372', 30),\n",
    " ('55438', 14),\n",
    " ('55378', 13),\n",
    " ('55347', 7),\n",
    " ('55344', 5),\n",
    " ('55420', 4),\n",
    " ('55431', 3),\n",
    " ('55317', 2),\n",
    " ('55437', 2),\n",
    " ('55386', 1),\n",
    " ('Invalid', 1)]\n",
    "```"
   ]
  },
  {
   "cell_type": "markdown",
   "metadata": {},
   "source": [
    "55337, 55306 zip codes belong to Burnsville, MN area. So It is the most popular city."
   ]
  },
  {
   "cell_type": "markdown",
   "metadata": {},
   "source": [
    "* We can see that there is an invalid code.\n",
    "* After querying I got the information as follows:\n",
    "* [(2390325110, 'postcode', 'Invalid', 'addr')]"
   ]
  },
  {
   "cell_type": "markdown",
   "metadata": {},
   "source": [
    "```\n",
    "# Give the id directly and see if you get any info\n",
    "missing_postcodes_info_more = cursor.execute(\"\"\"SELECT * \n",
    "             FROM (SELECT * FROM nodes_tags\n",
    "             UNION ALL \n",
    "             SELECT * FROM ways_tags) tags\n",
    "             WHERE tags.id = 2390325110\"\"\").fetchall()\n",
    "```\n"
   ]
  },
  {
   "cell_type": "markdown",
   "metadata": {},
   "source": [
    "##### Results:"
   ]
  },
  {
   "cell_type": "markdown",
   "metadata": {},
   "source": [
    "```\n",
    "[(2390325110, 'postcode', 'Invalid', 'addr'),\n",
    " (2390325110, 'street', 'West 98th Street', 'addr'),\n",
    " (2390325110, 'name', 'Discland', 'regular'),\n",
    " (2390325110, 'shop', 'music', 'regular'),\n",
    " (2390325110, 'website', 'http://disclandonline.com/', 'regular')]\n",
    "```"
   ]
  },
  {
   "cell_type": "markdown",
   "metadata": {},
   "source": [
    "* I googled the website \"http://disclandonline.com/ \", street 'West 98th Street' and got the zip code as 55420. \n",
    "* 822 W 98th St Bloomington, MN 55420 is the address. \n",
    "* I am not cleaning it now. \n",
    "* But we can write a program to replace the invalid zip code with 55420 in exploration and audition phase."
   ]
  },
  {
   "cell_type": "markdown",
   "metadata": {},
   "source": [
    "### Suggestions"
   ]
  },
  {
   "cell_type": "markdown",
   "metadata": {},
   "source": [
    "* If you carefully observe the above results data is not properly abbreviated or entered.\n",
    "* Data cleaning can be influenced greatly by a good Data entry interface design\n",
    "* I.e At stages from data collection and entry, through transformation.\n",
    "* So my suggestion is to have a good data entering interface management system. \n",
    "* Most of the problems related to bad data will be solved by this. Although it's not a one time process. It'an iterative process.\n",
    "\n",
    "* For example: \n",
    "* Open the website Openstreetmap.org\n",
    "* These were the screenshots of entering the data into the openstreetmap.org.  * If you have any problems, Check the \"img\" folder for the screenshots.\n",
    "* I have created a username and password and tried to enter the information like other contributors. I have tried to enter the values in the default fields for the following."
   ]
  },
  {
   "cell_type": "markdown",
   "metadata": {},
   "source": [
    "![title](img/problems in interface1.png)"
   ]
  },
  {
   "cell_type": "markdown",
   "metadata": {},
   "source": [
    "![title](img/problems in interface 2.png)"
   ]
  },
  {
   "cell_type": "markdown",
   "metadata": {},
   "source": [
    "![title](img/problems in interface 3.png)"
   ]
  },
  {
   "cell_type": "markdown",
   "metadata": {},
   "source": [
    "###### The actual behavior of the interface:\n",
    "* Looks like the software is accepting any letter, number, character for many of the fields.\n",
    "* Playground name field starts with small letters\n",
    "* Name field starts with small letters.\n",
    "* Postcode field allows letters, numbers, and combination too.\n",
    "* Fax field allows letters and numbers\n",
    "* Unit field allows special characters\n",
    "* City name field allows a State Name.\n",
    "* Age field allows any character or number.\n",
    "\n",
    "###### Expected behavior of the interface:\n",
    "*When we develop a data entering interface:\n",
    "* When we enter values in the fields, They should have some restrictions like:\n",
    "* Name should start with uppercase letter\n",
    "* Age should be in numbers\n",
    "* Postcode should be in numbers\n",
    "* The phone number should be in numbers\n",
    "* Fax should be in numbers.\n",
    "* City field should not accept a State name.\n",
    "* Auto-population of cities, states, countries will help.\n",
    "* Streets can include numbers and letters both.\n",
    "* After entering the wrong data for at least important fields like \"age\", it should disable the upload field option.\n",
    "* But It allows the user to update the changes.\n",
    "* For a better data: Review from an expert for every contribution and approval helps.\n",
    "\n",
    "Benefits:\n",
    "* Data entered will be consistent and easily understandable.\n",
    "* It helps in cleaning the data easily.\n",
    "* It saves more time for the users, who contribute to the maps and also who analyzes the data.\n",
    "* Clean data and accurate data means better predictions.\n",
    "\n",
    "Anticipated Problems:\n",
    "* For each and every country the fields and the values for the data will be different. So keeping everything in a single format is not a good idea.\n",
    "* Ex: \n",
    "* Phone numbers in the US have a 10-digit format.\n",
    "* Phone numbers in India for cell numbers it's a 10-digit format.\n",
    "* Phone numbers in India for landline numbers it's 11-digit format.\n",
    "* As people in different countries speak the different languages, People will try to edit maps in their own language. \n",
    "* So if we take large datasets of 2 different countries, if the languages are different, it's really difficult to analyze the data.\n",
    "* So again maintaining a consistent format for all over the world is difficult. \n",
    "* But we can be country specific."
   ]
  },
  {
   "cell_type": "markdown",
   "metadata": {
    "collapsed": true
   },
   "source": [
    "## Conclusion"
   ]
  },
  {
   "cell_type": "markdown",
   "metadata": {},
   "source": [
    "I have tried to clean few variables like cities, streets, states, postal codes and phone numbers. Remaining variables like Counties, Cuisine, Hospitals etc.. also needs exploration, audition, and cleaning. So we can say that the analysis of the data of Shakopee, MN is still incomplete. \n",
    "\n",
    "For example, if we take \" k value\" as postcode only. It's ignoring many values tagged or named differently like postal_code, tiger_zip_code1, tiger_zip_right1 and tiger_zip_left1 etc...\n",
    "These values can also be included for further investigation and cleaning.\n",
    "So that important places related to these zip codes can be included in our analysis.\n",
    "\n",
    "If the zip codes were tagged under one name, it would be easier for our analysis.\n",
    "\n",
    "So as in the above suggestion, a better Data Entry interface helps us keep the data in a format which is easily understandable and analyzed by all."
   ]
  },
  {
   "cell_type": "markdown",
   "metadata": {},
   "source": [
    "###  Reference:"
   ]
  },
  {
   "cell_type": "markdown",
   "metadata": {
    "collapsed": true
   },
   "source": [
    "\n",
    "* Udacity : Data Analyst Nano Degree Lessons And quizzes\n",
    "\n",
    "* Stackoverflow for solving problems\n",
    "\n",
    "* XML Extraction code( get_XML_data )and Doubts:Udacity Connect Session Lead: Dylan Lennard\n",
    "* https://stackoverflow.com/questions/4299675/python-script-to-convert-from-utf-8-to-ascii\n",
    "* https://stackoverflow.com/questions/38337918/plot-pie-chart-and-a-table-using-matplotlib-in-pandas-dataframe\n",
    "\n",
    "* https://stackoverflow.com/questions/42678327/python-matplotlib-add-count-number-on-top-of-the-bar\n",
    "* https://matplotlib.org/devdocs/tutorials/introductory/pyplot.html#sphx-glr-tutorials-introductory-pyplot-py"
   ]
  }
 ],
 "metadata": {
  "kernelspec": {
   "display_name": "Python 3",
   "language": "python",
   "name": "python3"
  },
  "language_info": {
   "codemirror_mode": {
    "name": "ipython",
    "version": 3
   },
   "file_extension": ".py",
   "mimetype": "text/x-python",
   "name": "python",
   "nbconvert_exporter": "python",
   "pygments_lexer": "ipython3",
   "version": "3.5.5"
  }
 },
 "nbformat": 4,
 "nbformat_minor": 2
}
